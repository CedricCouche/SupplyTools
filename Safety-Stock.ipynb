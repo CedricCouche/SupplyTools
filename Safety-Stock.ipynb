{
 "cells": [
  {
   "cell_type": "markdown",
   "metadata": {},
   "source": [
    "# Supply tools"
   ]
  },
  {
   "cell_type": "markdown",
   "metadata": {},
   "source": [
    "## Imports"
   ]
  },
  {
   "cell_type": "code",
   "execution_count": 7,
   "metadata": {},
   "outputs": [],
   "source": [
    "import statistics\n",
    "import numpy as np\n",
    "from scipy.special import ndtri"
   ]
  },
  {
   "cell_type": "markdown",
   "metadata": {},
   "source": [
    "## Functions"
   ]
  },
  {
   "cell_type": "code",
   "execution_count": 8,
   "metadata": {},
   "outputs": [],
   "source": [
    "def safety_stock(demand_array, service_level, leadtime):\n",
    "    \n",
    "    \"\"\" Compute the safety stock of a demand serie\n",
    "    Info on ndtri: https://docs.scipy.org/doc/scipy/reference/generated/scipy.special.ndtri.html\n",
    "    Args:\n",
    "        - demand_array\n",
    "        - service_level\n",
    "        - leadtime\n",
    "    Returns:\n",
    "        _type_: safety stock\n",
    "    \"\"\"\n",
    "    \n",
    "    variability = statistics.stdev(demand_array)\n",
    "    zscore = ndtri(service_level)\n",
    "    \n",
    "    sf = zscore * variability * np.sqrt(leadtime)\n",
    "    \n",
    "    return sf\n",
    "\n",
    "\n",
    "def safety_stock_on_forecast_error(demand_array, forecast_array, service_level, leadtime):\n",
    "    \n",
    "    \"\"\" Compute the safety stock basd on the error of a forecast demand serie\n",
    "    Info on ndtri : https://docs.scipy.org/doc/scipy/reference/generated/scipy.special.ndtri.html\n",
    "    Args:\n",
    "        - demand_array\n",
    "        - forecast_array\n",
    "        - service_level\n",
    "        - leadtime\n",
    "\n",
    "    Returns:\n",
    "        _type_: safety stock\n",
    "    \"\"\"\n",
    "    \n",
    "    fcst_error = [x-y for x, y in zip(forecast_array, demand_array)]\n",
    "    n = len(demand_array)\n",
    "    \n",
    "    variability = statistics.stdev(fcst_error)\n",
    "    zscore = ndtri(service_level)\n",
    "    \n",
    "    sf = zscore * variability * np.sqrt(leadtime)\n",
    "    \n",
    "    return sf"
   ]
  },
  {
   "cell_type": "markdown",
   "metadata": {},
   "source": [
    "## Variables"
   ]
  },
  {
   "cell_type": "code",
   "execution_count": 9,
   "metadata": {},
   "outputs": [],
   "source": [
    "d1 = [2,5,8,5,7,9,1]\n",
    "f1 = [1,6,7,4,6,8,2]\n",
    "sl = 0.98\n",
    "lt=3"
   ]
  },
  {
   "cell_type": "markdown",
   "metadata": {},
   "source": [
    "## Data load"
   ]
  },
  {
   "cell_type": "code",
   "execution_count": 10,
   "metadata": {},
   "outputs": [
    {
     "name": "stdout",
     "output_type": "stream",
     "text": [
      "[-1, 1, -1, -1, -1, -1, 1]\n"
     ]
    }
   ],
   "source": [
    "fcst_error = [x-y for x,y in zip(f1, d1)]\n",
    "\n",
    "print(fcst_error)"
   ]
  },
  {
   "cell_type": "code",
   "execution_count": 11,
   "metadata": {},
   "outputs": [
    {
     "name": "stdout",
     "output_type": "stream",
     "text": [
      "Safety stock :  10.61497875606044\n",
      "Safety stock on forecast error :  3.4714692599290813\n"
     ]
    }
   ],
   "source": [
    "ss = safety_stock(demand_array=d1, service_level=sl, leadtime=lt)\n",
    "\n",
    "ss_fe = safety_stock_on_forecast_error(demand_array=d1, forecast_array=f1, service_level=sl, leadtime=lt)\n",
    "\n",
    "\n",
    "print(\"Safety stock : \", ss)\n",
    "print(\"Safety stock on forecast error : \",ss_fe)"
   ]
  }
 ],
 "metadata": {
  "kernelspec": {
   "display_name": ".venv",
   "language": "python",
   "name": "python3"
  },
  "language_info": {
   "codemirror_mode": {
    "name": "ipython",
    "version": 3
   },
   "file_extension": ".py",
   "mimetype": "text/x-python",
   "name": "python",
   "nbconvert_exporter": "python",
   "pygments_lexer": "ipython3",
   "version": "3.12.5"
  }
 },
 "nbformat": 4,
 "nbformat_minor": 2
}
