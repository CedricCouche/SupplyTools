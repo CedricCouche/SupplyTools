{
 "cells": [
  {
   "cell_type": "markdown",
   "metadata": {},
   "source": [
    "# Forecasting"
   ]
  },
  {
   "cell_type": "markdown",
   "metadata": {},
   "source": [
    "Data source : https://ourworldindata.org/grapher/air-passengers-carried"
   ]
  },
  {
   "cell_type": "markdown",
   "metadata": {},
   "source": [
    "## Imports"
   ]
  },
  {
   "cell_type": "code",
   "execution_count": 3,
   "metadata": {},
   "outputs": [],
   "source": [
    "import csv\n",
    "import numpy as np\n",
    "import matplotlib.pyplot as plt\n",
    "%matplotlib inline"
   ]
  },
  {
   "cell_type": "code",
   "execution_count": 4,
   "metadata": {},
   "outputs": [],
   "source": [
    "def unique(liste):\n",
    "    \n",
    "    unique = []\n",
    "\n",
    "    for e in liste:\n",
    "        if e not in unique:\n",
    "            unique.append(e)\n",
    "            \n",
    "    return unique\n",
    "\n",
    "\n",
    "def load_data(filepath, country):\n",
    "\n",
    "    Entity=[]\n",
    "    Code = []\n",
    "    Year=[]\n",
    "    Passengers=[]\n",
    "\n",
    "\n",
    "    with open(filepath, newline='') as file:\n",
    "\n",
    "        filereader = csv.reader(file, delimiter=',', quotechar='\"')\n",
    "\n",
    "        for row in filereader:\n",
    "\n",
    "            if row[1] == country :\n",
    "            \n",
    "                Entity.append(row[0])\n",
    "                Code.append(row[1])\n",
    "                Year.append(row[2])\n",
    "                Passengers.append(row[3])\n",
    "                \n",
    "    return Entity, Code, Year, Passengers"
   ]
  },
  {
   "cell_type": "markdown",
   "metadata": {},
   "source": [
    "## Variables"
   ]
  },
  {
   "cell_type": "code",
   "execution_count": 17,
   "metadata": {},
   "outputs": [],
   "source": [
    "x = np.array([5, 15, 25, 35, 45, 55, 65, 75]).reshape((-1, 1))\n",
    "y = np.array([5, 20, 14, 32, 22, 38, 60, 70])\n",
    "\n",
    "# x = np.linspace(start = 1, stop=100, num=50)\n",
    "# Y = np.linspace(start = 1, stop=100, num=50)\n"
   ]
  },
  {
   "cell_type": "code",
   "execution_count": 5,
   "metadata": {},
   "outputs": [
    {
     "name": "stdout",
     "output_type": "stream",
     "text": [
      "['France'] ['France']\n",
      "['FRA'] ['FRA']\n",
      "['1970'] ['2021']\n",
      "['9108000'] ['32000528']\n"
     ]
    }
   ],
   "source": [
    "\n",
    "Entity_fra, Code_fra, Year_fra, Passengers_fra = load_data(filepath='data_input/air-passengers-carried.csv', country='FRA')\n",
    "Entity_usa, Code_usa, Year_usa, Passengers_usa = load_data(filepath='data_input/air-passengers-carried.csv', country='FRA')\n",
    "\n",
    "data_fra = zip(Year_fra, Passengers_fra)\n",
    "data_usa = zip(Year_usa, Passengers_usa)\n",
    "\n",
    "print(Entity_fra[:1], Entity_fra[-1:])\n",
    "print(Code_fra[:1], Code_fra[-1:])\n",
    "print(Year_fra[:1], Year_fra[-1:])\n",
    "print(Passengers_fra[:1], Passengers_fra[-1:])\n"
   ]
  },
  {
   "cell_type": "markdown",
   "metadata": {},
   "source": [
    "## Linear regression"
   ]
  },
  {
   "cell_type": "code",
   "execution_count": 7,
   "metadata": {},
   "outputs": [],
   "source": [
    "from sklearn.linear_model import LinearRegression"
   ]
  },
  {
   "cell_type": "code",
   "execution_count": 21,
   "metadata": {},
   "outputs": [],
   "source": [
    "pass_fra = np.array(Passengers_fra, dtype='int').reshape(-1, 1)\n",
    "year_fra = np.array(Year_fra, dtype='int').reshape(-1, 1)\n",
    "pass_usa = np.array(Passengers_usa, dtype='int').reshape(-1, 1)\n",
    "year_usa = np.array(Year_usa, dtype='int').reshape(-1, 1)"
   ]
  },
  {
   "cell_type": "code",
   "execution_count": null,
   "metadata": {},
   "outputs": [
    {
     "name": "stdout",
     "output_type": "stream",
     "text": [
      "coefficient of determination: 0.7987817361077296\n",
      "intercept: [-2.23769636e+09]\n",
      "slope: [[1140927.49304192]]\n",
      "predicted response:\n",
      "[[ 9930805.08127737]\n",
      " [11071732.57431936]\n",
      " [12212660.06736135]\n",
      " [13353587.56040335]\n",
      " [14494515.05344486]]\n"
     ]
    }
   ],
   "source": [
    "lr = LinearRegression().fit(year_fra, pass_fra,)\n",
    "\n",
    "r_sq = lr.score(year_fra, pass_fra)\n",
    "print(f\"coefficient of determination: {r_sq}\")\n",
    "\n",
    "print(f\"intercept: {lr.intercept_}\")\n",
    "\n",
    "print(f\"slope: {lr.coef_}\")\n",
    "\n",
    "y_pred = lr.predict(year_fra)\n",
    "print(f\"predicted response:\\n{y_pred[:5]}\")"
   ]
  },
  {
   "cell_type": "code",
   "execution_count": 30,
   "metadata": {},
   "outputs": [
    {
     "data": {
      "image/png": "[encoded data removed]",
      "text/plain": [
       "<Figure size 500x500 with 1 Axes>"
      ]
     },
     "metadata": {},
     "output_type": "display_data"
    }
   ],
   "source": [
    "fig, ax = plt.subplots(figsize=(5,5))\n",
    "ax.scatter(year_fra, pass_fra, label='raw data', color='g')\n",
    "ax.plot(year_fra, y_pred, label='regression')\n",
    "ax.set_xlabel('year_fra')\n",
    "ax.set_ylabel('pass_fra')\n",
    "\n",
    "ax.legend('best')\n",
    "plt.title(\"Linear regression\")\n",
    "plt.savefig('example_LinearRegresion.png');"
   ]
  },
  {
   "cell_type": "markdown",
   "metadata": {},
   "source": [
    "## Moving Average"
   ]
  },
  {
   "cell_type": "code",
   "execution_count": 34,
   "metadata": {},
   "outputs": [],
   "source": [
    "pass_fra = np.array(Passengers_fra, dtype='int')\n",
    "year_fra = np.array(Year_fra, dtype='int')\n",
    "pass_usa = np.array(Passengers_usa, dtype='int')\n",
    "year_usa = np.array(Year_usa, dtype='int')"
   ]
  },
  {
   "cell_type": "code",
   "execution_count": 58,
   "metadata": {},
   "outputs": [],
   "source": [
    "def moving_avg_01(x, window_size):\n",
    "    \n",
    "    window = np.ones(int(window_size))/float(window_size)\n",
    "    ma_vec = np.convolve(x, window, 'same')\n",
    "    \n",
    "    return ma_vec\n",
    "\n",
    "def moving_avg_02(x, window_size):\n",
    "    \n",
    "    cumsum = np.cumsum(np.insert(window_size, 0, 0))\n",
    "    ma_vec = (cumsum[window_size:] - cumsum[:-window_size]) / float(window_size) \n",
    "    \n",
    "    return ma_vec"
   ]
  },
  {
   "cell_type": "code",
   "execution_count": 62,
   "metadata": {},
   "outputs": [],
   "source": [
    "#y_pred = moving_avg_01(x=pass_fra, window_size=3)\n",
    "y_pred = moving_avg_02(x=pass_fra, window_size=3)"
   ]
  },
  {
   "cell_type": "code",
   "execution_count": 65,
   "metadata": {},
   "outputs": [
    {
     "data": {
      "image/png": "[encoded data removed]",
      "text/plain": [
       "<Figure size 500x500 with 1 Axes>"
      ]
     },
     "metadata": {},
     "output_type": "display_data"
    }
   ],
   "source": [
    "fig, ax = plt.subplots(figsize=(5,5))\n",
    "ax.scatter(year_fra, pass_fra, label='raw data')\n",
    "ax.plot(y_pred, label='moving average')\n",
    "ax.set_xlabel('x_label')\n",
    "ax.set_ylabel('y_label')\n",
    "\n",
    "ax.legend('best')\n",
    "plt.title(\"Moving Average\")\n",
    "plt.savefig('example_MovingAverage.png');"
   ]
  },
  {
   "cell_type": "markdown",
   "metadata": {},
   "source": [
    "## Polynomial Regression"
   ]
  },
  {
   "cell_type": "code",
   "execution_count": null,
   "metadata": {},
   "outputs": [],
   "source": []
  },
  {
   "cell_type": "markdown",
   "metadata": {},
   "source": [
    "## Simple Exponential smoothing"
   ]
  },
  {
   "cell_type": "code",
   "execution_count": null,
   "metadata": {},
   "outputs": [],
   "source": []
  },
  {
   "cell_type": "markdown",
   "metadata": {},
   "source": [
    "## Double exponential smoothing : Holt"
   ]
  },
  {
   "cell_type": "code",
   "execution_count": null,
   "metadata": {},
   "outputs": [],
   "source": []
  },
  {
   "cell_type": "markdown",
   "metadata": {},
   "source": [
    "## Triple exponential smoothing : Holt-Winter"
   ]
  },
  {
   "cell_type": "code",
   "execution_count": null,
   "metadata": {},
   "outputs": [],
   "source": []
  },
  {
   "cell_type": "markdown",
   "metadata": {},
   "source": [
    "## Croston"
   ]
  },
  {
   "cell_type": "code",
   "execution_count": null,
   "metadata": {},
   "outputs": [],
   "source": []
  }
 ],
 "metadata": {
  "kernelspec": {
   "display_name": ".venv",
   "language": "python",
   "name": "python3"
  },
  "language_info": {
   "codemirror_mode": {
    "name": "ipython",
    "version": 3
   },
   "file_extension": ".py",
   "mimetype": "text/x-python",
   "name": "python",
   "nbconvert_exporter": "python",
   "pygments_lexer": "ipython3",
   "version": "3.12.5"
  }
 },
 "nbformat": 4,
 "nbformat_minor": 2
}
