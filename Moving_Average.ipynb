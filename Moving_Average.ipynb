{
 "cells": [
  {
   "cell_type": "markdown",
   "metadata": {},
   "source": [
    "# Forecasting"
   ]
  },
  {
   "cell_type": "markdown",
   "metadata": {},
   "source": [
    "Data source : https://ourworldindata.org/grapher/air-passengers-carried"
   ]
  },
  {
   "cell_type": "markdown",
   "metadata": {},
   "source": [
    "## Imports"
   ]
  },
  {
   "cell_type": "code",
   "execution_count": 1,
   "metadata": {},
   "outputs": [],
   "source": [
    "import csv\n",
    "import numpy as np\n",
    "import matplotlib.pyplot as plt\n",
    "%matplotlib inline"
   ]
  },
  {
   "cell_type": "code",
   "execution_count": 2,
   "metadata": {},
   "outputs": [],
   "source": [
    "def unique(liste):\n",
    "    \n",
    "    unique = []\n",
    "\n",
    "    for e in liste:\n",
    "        if e not in unique:\n",
    "            unique.append(e)\n",
    "            \n",
    "    return unique\n",
    "\n",
    "\n",
    "def load_data(filepath, country):\n",
    "\n",
    "    Entity=[]\n",
    "    Code = []\n",
    "    Year=[]\n",
    "    Passengers=[]\n",
    "\n",
    "\n",
    "    with open(filepath, newline='') as file:\n",
    "\n",
    "        filereader = csv.reader(file, delimiter=',', quotechar='\"')\n",
    "\n",
    "        for row in filereader:\n",
    "\n",
    "            if row[1] == country :\n",
    "            \n",
    "                Entity.append(row[0])\n",
    "                Code.append(row[1])\n",
    "                Year.append(row[2])\n",
    "                Passengers.append(row[3])\n",
    "                \n",
    "    return Entity, Code, Year, Passengers"
   ]
  },
  {
   "cell_type": "markdown",
   "metadata": {},
   "source": [
    "## Variables"
   ]
  },
  {
   "cell_type": "code",
   "execution_count": 3,
   "metadata": {},
   "outputs": [],
   "source": [
    "x = np.array([5, 15, 25, 35, 45, 55, 65, 75]).reshape((-1, 1))\n",
    "y = np.array([5, 20, 14, 32, 22, 38, 60, 70])\n",
    "\n",
    "# x = np.linspace(start = 1, stop=100, num=50)\n",
    "# Y = np.linspace(start = 1, stop=100, num=50)\n"
   ]
  },
  {
   "cell_type": "code",
   "execution_count": 4,
   "metadata": {},
   "outputs": [
    {
     "name": "stdout",
     "output_type": "stream",
     "text": [
      "['France'] ['France']\n",
      "['FRA'] ['FRA']\n",
      "['1970'] ['2021']\n",
      "['9108000'] ['32000528']\n"
     ]
    }
   ],
   "source": [
    "\n",
    "Entity_fra, Code_fra, Year_fra, Passengers_fra = load_data(filepath='data_input/air-passengers-carried.csv', country='FRA')\n",
    "Entity_usa, Code_usa, Year_usa, Passengers_usa = load_data(filepath='data_input/air-passengers-carried.csv', country='USA')\n",
    "\n",
    "data_fra = zip(Year_fra, Passengers_fra)\n",
    "data_usa = zip(Year_usa, Passengers_usa)\n",
    "\n",
    "print(Entity_fra[:1], Entity_fra[-1:])\n",
    "print(Code_fra[:1], Code_fra[-1:])\n",
    "print(Year_fra[:1], Year_fra[-1:])\n",
    "print(Passengers_fra[:1], Passengers_fra[-1:])\n"
   ]
  },
  {
   "cell_type": "markdown",
   "metadata": {},
   "source": [
    "## Moving Average"
   ]
  },
  {
   "cell_type": "code",
   "execution_count": 5,
   "metadata": {},
   "outputs": [],
   "source": [
    "pass_fra = np.array(Passengers_fra, dtype='int')\n",
    "year_fra = np.array(Year_fra, dtype='int')\n",
    "pass_usa = np.array(Passengers_usa, dtype='int')\n",
    "year_usa = np.array(Year_usa, dtype='int')"
   ]
  },
  {
   "cell_type": "code",
   "execution_count": 6,
   "metadata": {},
   "outputs": [],
   "source": [
    "def moving_avg_convolve(x, window_size):\n",
    "    \n",
    "    window = np.ones(int(window_size))/float(window_size)\n",
    "    ma_vec = np.convolve(x, window, 'same')\n",
    "    \n",
    "    return ma_vec\n",
    "\n",
    "def moving_avg_cumsum(x, window_size):\n",
    "    \n",
    "    cumsum = np.cumsum(np.insert(window_size, 0, 0))\n",
    "    ma_vec = (cumsum[window_size:] - cumsum[:-window_size]) / float(window_size) \n",
    "    \n",
    "    return ma_vec"
   ]
  },
  {
   "cell_type": "code",
   "execution_count": 7,
   "metadata": {},
   "outputs": [],
   "source": [
    "#mva = moving_avg_convolve(x=pass_fra, window_size=3)\n",
    "mva = moving_avg_cumsum(x=pass_fra, window_size=3)"
   ]
  },
  {
   "cell_type": "code",
   "execution_count": 8,
   "metadata": {},
   "outputs": [
    {
     "data": {
      "image/png": "[encoded data removed]",
      "text/plain": [
       "<Figure size 500x500 with 1 Axes>"
      ]
     },
     "metadata": {},
     "output_type": "display_data"
    }
   ],
   "source": [
    "fig, ax = plt.subplots(figsize=(5,5))\n",
    "ax.scatter(year_fra, pass_fra, label='raw data')\n",
    "ax.plot(mva, label='moving average')\n",
    "ax.set_xlabel('x_label')\n",
    "ax.set_ylabel('y_label')\n",
    "\n",
    "ax.legend('best')\n",
    "plt.title(\"Moving Average\")\n",
    "plt.savefig('example_MovingAverage.png');"
   ]
  }
 ],
 "metadata": {
  "kernelspec": {
   "display_name": ".venv",
   "language": "python",
   "name": "python3"
  },
  "language_info": {
   "codemirror_mode": {
    "name": "ipython",
    "version": 3
   },
   "file_extension": ".py",
   "mimetype": "text/x-python",
   "name": "python",
   "nbconvert_exporter": "python",
   "pygments_lexer": "ipython3",
   "version": "3.12.5"
  }
 },
 "nbformat": 4,
 "nbformat_minor": 2
}
