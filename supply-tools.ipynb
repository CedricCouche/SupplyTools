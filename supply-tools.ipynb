{
 "cells": [
  {
   "cell_type": "markdown",
   "metadata": {},
   "source": [
    "# Supply tools"
   ]
  },
  {
   "cell_type": "markdown",
   "metadata": {},
   "source": [
    "## Imports"
   ]
  },
  {
   "cell_type": "code",
   "execution_count": 11,
   "metadata": {},
   "outputs": [],
   "source": [
    "import statistics\n",
    "from scipy.stats import norm\n",
    "from scipy.special import ndtri\n",
    "\n",
    "import numpy as np\n",
    "import pandas as pd"
   ]
  },
  {
   "cell_type": "markdown",
   "metadata": {},
   "source": [
    "## Functions"
   ]
  },
  {
   "cell_type": "code",
   "execution_count": null,
   "metadata": {},
   "outputs": [],
   "source": [
    "def safety_stock(demand_array, service_level, leadtime):\n",
    "    \n",
    "    \"\"\" Compute the safety stock of a demand serie\n",
    "\n",
    "    Args:\n",
    "        - demand_array\n",
    "        - service_level\n",
    "        - leadtime\n",
    "    Returns:\n",
    "        _type_: safety stock\n",
    "    \"\"\"\n",
    "    \n",
    "    std_dev = statistics.stdev(demand_array)\n",
    "    zscore = ndtri(service_level)\n",
    "    \n",
    "    sf = zscore * std_dev * np.sqrt(leadtime)\n",
    "    \n",
    "    return sf\n",
    "\n",
    "\n",
    "def safety_stock_on_forecast_error(demand_array, forecast_array, service_level, leadtime):\n",
    "    \n",
    "    \"\"\" Compute the safety stock basd on the error of a forecast demand serie\n",
    "    \n",
    "    Args:\n",
    "        - demand_array\n",
    "        - forecast_array\n",
    "        - service_level\n",
    "        - leadtime\n",
    "\n",
    "    Returns:\n",
    "        _type_: safety stock\n",
    "    \"\"\"\n",
    "    \n",
    "    fcst_error = []\n",
    "    \n",
    "    std_dev = statistics.stdev(fcst_error)\n",
    "    zscore = ndtri(service_level)\n",
    "    \n",
    "    sf = zscore * variability * np.sqrt(leadtime)\n",
    "    \n",
    "    return sf"
   ]
  },
  {
   "cell_type": "markdown",
   "metadata": {},
   "source": [
    "## Variables"
   ]
  },
  {
   "cell_type": "code",
   "execution_count": null,
   "metadata": {},
   "outputs": [],
   "source": []
  },
  {
   "cell_type": "markdown",
   "metadata": {},
   "source": [
    "## Data load"
   ]
  },
  {
   "cell_type": "code",
   "execution_count": null,
   "metadata": {},
   "outputs": [],
   "source": []
  }
 ],
 "metadata": {
  "kernelspec": {
   "display_name": ".venv",
   "language": "python",
   "name": "python3"
  },
  "language_info": {
   "codemirror_mode": {
    "name": "ipython",
    "version": 3
   },
   "file_extension": ".py",
   "mimetype": "text/x-python",
   "name": "python",
   "nbconvert_exporter": "python",
   "pygments_lexer": "ipython3",
   "version": "3.12.5"
  }
 },
 "nbformat": 4,
 "nbformat_minor": 2
}
