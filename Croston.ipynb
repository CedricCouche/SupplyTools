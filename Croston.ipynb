{
 "cells": [
  {
   "cell_type": "markdown",
   "metadata": {},
   "source": [
    "# Forecasting"
   ]
  },
  {
   "cell_type": "markdown",
   "metadata": {},
   "source": [
    "Data source : https://ourworldindata.org/grapher/air-passengers-carried"
   ]
  },
  {
   "cell_type": "markdown",
   "metadata": {},
   "source": [
    "## Imports"
   ]
  },
  {
   "cell_type": "code",
   "execution_count": 1,
   "metadata": {},
   "outputs": [],
   "source": [
    "import csv\n",
    "import numpy as np\n",
    "import matplotlib.pyplot as plt\n",
    "%matplotlib inline"
   ]
  },
  {
   "cell_type": "code",
   "execution_count": 2,
   "metadata": {},
   "outputs": [],
   "source": [
    "def unique(liste):\n",
    "    \n",
    "    unique = []\n",
    "\n",
    "    for e in liste:\n",
    "        if e not in unique:\n",
    "            unique.append(e)\n",
    "            \n",
    "    return unique\n",
    "\n",
    "\n",
    "def load_data(filepath, country):\n",
    "\n",
    "    Entity=[]\n",
    "    Code = []\n",
    "    Year=[]\n",
    "    Passengers=[]\n",
    "\n",
    "\n",
    "    with open(filepath, newline='') as file:\n",
    "\n",
    "        filereader = csv.reader(file, delimiter=',', quotechar='\"')\n",
    "\n",
    "        for row in filereader:\n",
    "\n",
    "            if row[1] == country :\n",
    "            \n",
    "                Entity.append(row[0])\n",
    "                Code.append(row[1])\n",
    "                Year.append(row[2])\n",
    "                Passengers.append(row[3])\n",
    "                \n",
    "    return Entity, Code, Year, Passengers"
   ]
  },
  {
   "cell_type": "markdown",
   "metadata": {},
   "source": [
    "## Variables"
   ]
  },
  {
   "cell_type": "code",
   "execution_count": null,
   "metadata": {},
   "outputs": [
    {
     "name": "stdout",
     "output_type": "stream",
     "text": [
      "['France'] ['France']\n",
      "['FRA'] ['FRA']\n",
      "['1970'] ['2021']\n",
      "['9108000'] ['32000528']\n"
     ]
    }
   ],
   "source": [
    "\n",
    "Entity_fra, Code_fra, Year_fra, Passengers_fra = load_data(filepath='data_input/air-passengers-carried.csv', country='FRA')\n",
    "Entity_usa, Code_usa, Year_usa, Passengers_usa = load_data(filepath='data_input/air-passengers-carried.csv', country='USA')\n",
    "\n",
    "data_fra = zip(Year_fra, Passengers_fra)\n",
    "data_usa = zip(Year_usa, Passengers_usa)\n",
    "\n",
    "print(Entity_fra[:1], Entity_fra[-1:])\n",
    "print(Code_fra[:1], Code_fra[-1:])\n",
    "print(Year_fra[:1], Year_fra[-1:])\n",
    "print(Passengers_fra[:1], Passengers_fra[-1:])\n"
   ]
  }
 ],
 "metadata": {
  "kernelspec": {
   "display_name": ".venv",
   "language": "python",
   "name": "python3"
  },
  "language_info": {
   "codemirror_mode": {
    "name": "ipython",
    "version": 3
   },
   "file_extension": ".py",
   "mimetype": "text/x-python",
   "name": "python",
   "nbconvert_exporter": "python",
   "pygments_lexer": "ipython3",
   "version": "3.12.5"
  }
 },
 "nbformat": 4,
 "nbformat_minor": 2
}
